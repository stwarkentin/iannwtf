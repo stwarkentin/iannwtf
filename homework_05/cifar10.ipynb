{
  "nbformat": 4,
  "nbformat_minor": 0,
  "metadata": {
    "colab": {
      "name": "stwarkentin_cifar10.ipynb",
      "provenance": [],
      "collapsed_sections": []
    },
    "kernelspec": {
      "name": "python3",
      "display_name": "Python 3"
    },
    "accelerator": "GPU"
  },
  "cells": [
    {
      "cell_type": "code",
      "metadata": {
        "id": "dZKO582p5hhE"
      },
      "source": [
        "# math\n",
        "import numpy as np\n",
        "# tensorflow\n",
        "%tensorflow_version 2.x\n",
        "import tensorflow as tf\n",
        "from tensorflow.keras import regularizers\n",
        "from keras.datasets import cifar10\n",
        "# visualization\n",
        "import matplotlib.pyplot as plt"
      ],
      "execution_count": 22,
      "outputs": []
    },
    {
      "cell_type": "markdown",
      "metadata": {
        "id": "M1o6U8jSlkQ5"
      },
      "source": [
        "# Hyperparameters"
      ]
    },
    {
      "cell_type": "code",
      "metadata": {
        "id": "b3aUwm_9lX1s"
      },
      "source": [
        "#hyper parameter\n",
        "batch_size = 64\n",
        "#buffer size\n",
        "buffer_size = 2000\n",
        "#number of epochs to train\n",
        "num_epochs = 100\n",
        "#learning rate for weight adjustment\n",
        "learning_rate = 0.00001\n",
        "# optimizer\n",
        "adam = tf.keras.optimizers.Adam(learning_rate)"
      ],
      "execution_count": 23,
      "outputs": []
    },
    {
      "cell_type": "markdown",
      "metadata": {
        "id": "9-mfAdSVKXGT"
      },
      "source": [
        "# Loading the data set"
      ]
    },
    {
      "cell_type": "markdown",
      "metadata": {
        "id": "Wb7PlutcOzGH"
      },
      "source": [
        "## Loading `cifar10`"
      ]
    },
    {
      "cell_type": "code",
      "metadata": {
        "id": "5PBJo_YL5zLI"
      },
      "source": [
        "(x_train, y_train), (x_test, y_test) = cifar10.load_data()"
      ],
      "execution_count": 24,
      "outputs": []
    },
    {
      "cell_type": "markdown",
      "metadata": {
        "id": "_vgW0DoLNSpO"
      },
      "source": [
        "General information on the `cifar10` dataset can be found here: https://www.cs.toronto.edu/%7Ekriz/cifar.html\n",
        "\n",
        "The documentation of the keras module provides us with information on the output of its `load_data` method: https://www.tensorflow.org/api_docs/python/tf/keras/datasets/cifar10/load_data\n",
        "\n",
        "```\n",
        "Returns\n",
        "\n",
        "Tuple of Numpy arrays: (x_train, y_train), (x_test, y_test).\n",
        "\n",
        "x_train, x_test: uint8 arrays of RGB image data with shape (num_samples, 3, 32, 32) if tf.keras.backend.image_data_format() is 'channels_first', or (num_samples, 32, 32, 3) if the data format is 'channels_last'.\n",
        "\n",
        "y_train, y_test: uint8 arrays of category labels (integers in range 0-9) each with shape (num_samples, 1). \n",
        "```\n",
        "\n"
      ]
    },
    {
      "cell_type": "markdown",
      "metadata": {
        "id": "4GNgglAgPSLi"
      },
      "source": [
        "## Previewing the data"
      ]
    },
    {
      "cell_type": "code",
      "metadata": {
        "colab": {
          "base_uri": "https://localhost:8080/",
          "height": 264
        },
        "id": "NUOwpFYcPhjx",
        "outputId": "e59dd67a-9cd5-46d7-8f28-6f7e1a4d42e3"
      },
      "source": [
        "label_names = [\"airplane\",\"automobile\",\"bird\",\"cat\",\"deer\",\"dog\",\"frog\",\"horse\",\"ship\",\"truck\"]\n",
        "twothirds_percentile_idx = len(x_test) // 3\n",
        "\n",
        "fig, axes = plt.subplots(2,2)\n",
        "\n",
        "axes[0,0].set_title(label_names[y_test[0][0]])\n",
        "axes[0,0].imshow(x_test[0])\n",
        "\n",
        "axes[0,1].set_title(label_names[y_test[twothirds_percentile_idx][0]])\n",
        "axes[0,1].imshow(x_test[twothirds_percentile_idx])\n",
        "\n",
        "axes[1,0].set_title(label_names[y_test[-twothirds_percentile_idx][0]])\n",
        "axes[1,0].imshow(x_test[-twothirds_percentile_idx])\n",
        "\n",
        "axes[1,1].set_title(label_names[y_test[-1][0]])\n",
        "axes[1,1].imshow(x_test[-1])\n",
        "\n",
        "for ax in axes.flatten():\n",
        "    ax.tick_params(left = False, bottom = False, labelleft = False, labelbottom = False)\n",
        "\n",
        "plt.show()"
      ],
      "execution_count": 25,
      "outputs": [
        {
          "output_type": "display_data",
          "data": {
            "image/png": "[encoded data removed]",
            "text/plain": [
              "<Figure size 432x288 with 4 Axes>"
            ]
          },
          "metadata": {
            "tags": []
          }
        }
      ]
    },
    {
      "cell_type": "markdown",
      "metadata": {
        "id": "v653T_qNhJKz"
      },
      "source": [
        "# Input pipeline and preprocessing"
      ]
    },
    {
      "cell_type": "markdown",
      "metadata": {
        "id": "nElASi775Oow"
      },
      "source": [
        "## Normalizing the images"
      ]
    },
    {
      "cell_type": "code",
      "metadata": {
        "id": "PkR71dRH6q2y"
      },
      "source": [
        "# training data\n",
        "# normalize the images\n",
        "train_images = tf.keras.utils.normalize(x_train)\n",
        "\n",
        "# testing data\n",
        "test_images = tf.keras.utils.normalize(x_test)"
      ],
      "execution_count": 26,
      "outputs": []
    },
    {
      "cell_type": "markdown",
      "metadata": {
        "id": "MV_y8vdH_pVO"
      },
      "source": [
        "## One-hot encoding labels"
      ]
    },
    {
      "cell_type": "code",
      "metadata": {
        "id": "OYvDktQoAQC4"
      },
      "source": [
        "# train data\n",
        "# explain why we have to reshape\n",
        "train_targets = np.reshape(y_train, -1)\n",
        "# since there are 10 classes of images, we need to one-hot encode to depth 10\n",
        "train_targets = tf.keras.utils.to_categorical(train_targets, 10)\n",
        "\n",
        "# do the same for test data\n",
        "test_targets = np.reshape(y_test, -1)\n",
        "test_targets = tf.keras.utils.to_categorical(test_targets, 10)"
      ],
      "execution_count": 27,
      "outputs": []
    },
    {
      "cell_type": "markdown",
      "metadata": {
        "id": "k9Rajky5sBqw"
      },
      "source": [
        "# Building the test data set"
      ]
    },
    {
      "cell_type": "markdown",
      "metadata": {
        "id": "tKWFanlDNbbk"
      },
      "source": [
        "Next up we will need to pass the testing data to `ImageDataGenerator.flow()`. In order to do this, we have to first transform it into a `keras` data set. "
      ]
    },
    {
      "cell_type": "code",
      "metadata": {
        "id": "xiDJtLxUauUF"
      },
      "source": [
        "test_images = tf.data.Dataset.from_tensor_slices(test_images)\n",
        "test_targets = tf.data.Dataset.from_tensor_slices(test_targets)\n",
        "test_dataset = tf.data.Dataset.zip((test_images, test_targets))\n",
        "test_dataset = test_dataset.batch(batch_size, drop_remainder=True)\n",
        "test_dataset = test_dataset.shuffle(buffer_size=buffer_size)"
      ],
      "execution_count": 28,
      "outputs": []
    },
    {
      "cell_type": "markdown",
      "metadata": {
        "id": "3Tb4Mvz45GD3"
      },
      "source": [
        "## Batching, data augmentation, shuffling"
      ]
    },
    {
      "cell_type": "markdown",
      "metadata": {
        "id": "CjHtz-znxUGs"
      },
      "source": [
        "We hand over the entire work of implementing batching and data augmentation to `ImageDataGenerator` class and its method `flow` (https://www.tensorflow.org/api_docs/python/tf/keras/preprocessing/image/ImageDataGenerator). The class requires a All we need to do at this point is to create an `ImageDataGenerator` object using the parameters we need in order to get the data augmentation we want. Later, we will be able to call the `ImageDataGenerator` object's `flow` method to generate batches for our model to train on. As if that wasn't convenient enough, `flow` can also shuffle the data for us. "
      ]
    },
    {
      "cell_type": "code",
      "metadata": {
        "id": "SylZnyIshPlf"
      },
      "source": [
        "datagen = tf.keras.preprocessing.image.ImageDataGenerator(horizontal_flip = True, shear_range = 0.2, zoom_range = 0.2)\n",
        "\n",
        "batch_generator = datagen.flow(train_images, train_targets, batch_size = batch_size)"
      ],
      "execution_count": 29,
      "outputs": []
    },
    {
      "cell_type": "markdown",
      "metadata": {
        "id": "jXlHMlclGgJI"
      },
      "source": [
        "# Building the CNN"
      ]
    },
    {
      "cell_type": "code",
      "metadata": {
        "id": "89g77wrpWwDM"
      },
      "source": [
        "from tensorflow.keras.layers import Conv2D, MaxPool2D, BatchNormalization, Dropout, GlobalAveragePooling2D, Dense\n",
        "from tensorflow.keras.activations import relu, softmax\n",
        "from tensorflow.keras.regularizers import L2\n",
        "\n",
        "class MyModel(tf.keras.Model):\n",
        "  def __init__(self):\n",
        "    super(MyModel, self).__init__()\n",
        "    self.conv_1 = Conv2D(filters= 64, \n",
        "                        kernel_size= (3,3), \n",
        "                        input_shape=(32,32,3), \n",
        "                        padding='same', \n",
        "                        activation= relu, \n",
        "                        kernel_regularizer= L2())\n",
        "    \n",
        "    self.batch_norm_1 = BatchNormalization()\n",
        "\n",
        "    self.conv_2 = Conv2D(filters= 64, kernel_size= (3,3), activation= relu, padding= 'same', kernel_regularizer= L2())\n",
        "\n",
        "    self.batch_norm_2 = BatchNormalization()\n",
        "\n",
        "    self.conv_3 = Conv2D(filters= 64, kernel_size= (3,3), activation= relu, padding= 'same', kernel_regularizer= L2())\n",
        "\n",
        "    self.batch_norm_3 = BatchNormalization()\n",
        "\n",
        "    self.conv_4 = Conv2D(filters= 64, kernel_size= (3,3), activation= relu, padding= 'same', kernel_regularizer= L2())\n",
        "\n",
        "    self.batch_norm_4 = BatchNormalization()\n",
        "\n",
        "    self.max_pool_1 = MaxPool2D()\n",
        "\n",
        "    self.drop_out_1 = Dropout(0.3)\n",
        "    \n",
        "    self.conv_5 = Conv2D(filters= 128, kernel_size= (3,3), activation= relu, padding= 'same', kernel_regularizer= L2())\n",
        "\n",
        "    self.batch_norm_5 = BatchNormalization()\n",
        "\n",
        "    self.conv_6 = Conv2D(filters= 128, kernel_size= (3,3), activation= relu, padding= 'same', kernel_regularizer= L2())\n",
        "\n",
        "    self.batch_norm_6 = BatchNormalization()\n",
        "\n",
        "    self.conv_7 = Conv2D(filters= 128, kernel_size= (3,3), activation= relu, padding= 'same', kernel_regularizer= L2())\n",
        "\n",
        "    self.batch_norm_7 = BatchNormalization()\n",
        "\n",
        "    self.conv_8 = Conv2D(filters= 128, kernel_size= (3,3), activation= relu, padding= 'same', kernel_regularizer= L2())\n",
        "\n",
        "    self.batch_norm_8 = BatchNormalization()\n",
        "\n",
        "    self.max_pool_2 = MaxPool2D()\n",
        "\n",
        "    self.drop_out_2 = Dropout(0.3)\n",
        "\n",
        "    self.conv_9 = Conv2D(filters= 512, kernel_size= (3,3), activation= relu, padding= 'same', kernel_regularizer= L2())\n",
        "\n",
        "    self.batch_norm_9 = BatchNormalization()\n",
        "\n",
        "    self.conv_10 = Conv2D(filters= 512, kernel_size= (3,3), activation= relu, padding= 'same', kernel_regularizer= L2())\n",
        "\n",
        "    self.batch_norm_10 = BatchNormalization()\n",
        "\n",
        "    self.conv_11 = Conv2D(filters= 512, kernel_size= (3,3), activation= relu, padding= 'same', kernel_regularizer= L2())\n",
        "\n",
        "    self.batch_norm_11 = BatchNormalization()\n",
        "\n",
        "    self.conv_12 = Conv2D(filters= 512, kernel_size= (3,3), activation= relu, padding= 'same', kernel_regularizer= L2())\n",
        "\n",
        "    self.batch_norm_12 = BatchNormalization()\n",
        "\n",
        "    self.global_pooling = GlobalAveragePooling2D()\n",
        "\n",
        "    self.dense_1 = Dense(units= 10, activation= tf.keras.activations.softmax)\n",
        "\n",
        "  def call(self, inputs, training=False):\n",
        "    x = self.conv_1(inputs)\n",
        "    x = self.batch_norm_1(x)\n",
        "    x = self.conv_2(x)\n",
        "    x = self.batch_norm_2(x)\n",
        "    x = self.conv_3(x)\n",
        "    x = self.batch_norm_3(x)\n",
        "    x = self.conv_4(x)\n",
        "    x = self.batch_norm_4(x)\n",
        "    x = self.max_pool_1(x)\n",
        "    if training:\n",
        "      x = self.drop_out_1(x, training=training)\n",
        "    x = self.conv_5(x)\n",
        "    x = self.batch_norm_5(x)\n",
        "    x = self.conv_6(x)\n",
        "    x = self.batch_norm_6(x)\n",
        "    x = self.conv_7(x)\n",
        "    x = self.batch_norm_7(x)\n",
        "    x = self.conv_8(x)\n",
        "    x = self.batch_norm_8(x)\n",
        "    x = self.max_pool_2(x)\n",
        "    if training:\n",
        "      x = self.drop_out_2(x, training=training)\n",
        "    x = self.conv_9(x)\n",
        "    x = self.batch_norm_9(x)\n",
        "    x = self.conv_10(x)\n",
        "    x = self.batch_norm_10(x)\n",
        "    x = self.conv_11(x)\n",
        "    x = self.batch_norm_11(x)\n",
        "    x = self.conv_12(x)\n",
        "    x = self.batch_norm_12(x)\n",
        "    x = self.global_pooling(x)\n",
        "    x = self.dense_1(x)\n",
        "    return x\n",
        "\n",
        "model = MyModel()\n",
        "\n",
        "model.compile(optimizer=adam, \n",
        "              loss= 'CategoricalCrossentropy', \n",
        "              metrics=['acc']\n",
        "              )\n"
      ],
      "execution_count": 32,
      "outputs": []
    },
    {
      "cell_type": "code",
      "metadata": {
        "colab": {
          "base_uri": "https://localhost:8080/"
        },
        "id": "UoJNYjD6jZC4",
        "outputId": "2a8bc8e0-75ee-4b3c-dc01-59a604c96cba"
      },
      "source": [
        "checkpoint_filepath = '/tmp/checkpoint'\n",
        "model_checkpoint_callback = tf.keras.callbacks.ModelCheckpoint(\n",
        "    filepath=checkpoint_filepath,\n",
        "    save_weights_only=True)\n",
        "\n",
        "history = model.fit(batch_generator, validation_data=test_dataset, epochs= num_epochs, callbacks=[model_checkpoint_callback])\n",
        "model.summary()"
      ],
      "execution_count": 34,
      "outputs": [
        {
          "output_type": "stream",
          "text": [
            "Epoch 1/100\n",
            "782/782 [==============================] - ETA: 0s - loss: 24.3370 - acc: 0.3286WARNING:tensorflow:Layer my_model_2 is casting an input tensor from dtype float64 to the layer's dtype of float32, which is new behavior in TensorFlow 2.  The layer has dtype float32 because its dtype defaults to floatx.\n",
            "\n",
            "If you intended to run this layer in float32, you can safely ignore this warning. If in doubt, this warning is likely only an issue if you are porting a TensorFlow 1.X model to TensorFlow 2.\n",
            "\n",
            "To change all layers to have dtype float64 by default, call `tf.keras.backend.set_floatx('float64')`. To change just this layer, pass dtype='float64' to the layer constructor. If you are the author of this layer, you can disable autocasting by passing autocast=False to the base Layer constructor.\n",
            "\n",
            "WARNING:tensorflow:Callbacks method `on_test_batch_end` is slow compared to the batch time (batch time: 0.0028s vs `on_test_batch_end` time: 0.0098s). Check your callbacks.\n",
            "782/782 [==============================] - 43s 55ms/step - loss: 24.3370 - acc: 0.3286 - val_loss: 22.9520 - val_acc: 0.3374\n",
            "Epoch 2/100\n",
            "782/782 [==============================] - 43s 54ms/step - loss: 21.4457 - acc: 0.4116 - val_loss: 20.4428 - val_acc: 0.4117\n",
            "Epoch 3/100\n",
            "782/782 [==============================] - 42s 54ms/step - loss: 19.2194 - acc: 0.4500 - val_loss: 18.5505 - val_acc: 0.4236\n",
            "Epoch 4/100\n",
            "782/782 [==============================] - 43s 54ms/step - loss: 17.4137 - acc: 0.4694 - val_loss: 16.8119 - val_acc: 0.4501\n",
            "Epoch 5/100\n",
            "782/782 [==============================] - 42s 54ms/step - loss: 15.8981 - acc: 0.4887 - val_loss: 15.5954 - val_acc: 0.4354\n",
            "Epoch 6/100\n",
            "782/782 [==============================] - 43s 55ms/step - loss: 14.6107 - acc: 0.5056 - val_loss: 14.3689 - val_acc: 0.4511\n",
            "Epoch 7/100\n",
            "782/782 [==============================] - 43s 55ms/step - loss: 13.5116 - acc: 0.5230 - val_loss: 13.2133 - val_acc: 0.4949\n",
            "Epoch 8/100\n",
            "782/782 [==============================] - 43s 54ms/step - loss: 12.5591 - acc: 0.5380 - val_loss: 12.3873 - val_acc: 0.4919\n",
            "Epoch 9/100\n",
            "782/782 [==============================] - 42s 54ms/step - loss: 11.7287 - acc: 0.5500 - val_loss: 11.6124 - val_acc: 0.5022\n",
            "Epoch 10/100\n",
            "782/782 [==============================] - 42s 54ms/step - loss: 10.9998 - acc: 0.5634 - val_loss: 10.9675 - val_acc: 0.5009\n",
            "Epoch 11/100\n",
            "782/782 [==============================] - 42s 54ms/step - loss: 10.3572 - acc: 0.5780 - val_loss: 10.3250 - val_acc: 0.5226\n",
            "Epoch 12/100\n",
            "782/782 [==============================] - 42s 54ms/step - loss: 9.7809 - acc: 0.5880 - val_loss: 9.7802 - val_acc: 0.5303\n",
            "Epoch 13/100\n",
            "782/782 [==============================] - 42s 54ms/step - loss: 9.2675 - acc: 0.5993 - val_loss: 9.2208 - val_acc: 0.5593\n",
            "Epoch 14/100\n",
            "782/782 [==============================] - 42s 54ms/step - loss: 8.7997 - acc: 0.6119 - val_loss: 8.8509 - val_acc: 0.5546\n",
            "Epoch 15/100\n",
            "782/782 [==============================] - 42s 54ms/step - loss: 8.3838 - acc: 0.6185 - val_loss: 8.3679 - val_acc: 0.5810\n",
            "Epoch 16/100\n",
            "782/782 [==============================] - 42s 54ms/step - loss: 7.9996 - acc: 0.6262 - val_loss: 8.0993 - val_acc: 0.5708\n",
            "Epoch 17/100\n",
            "782/782 [==============================] - 42s 54ms/step - loss: 7.6519 - acc: 0.6364 - val_loss: 7.7190 - val_acc: 0.5852\n",
            "Epoch 18/100\n",
            "782/782 [==============================] - 42s 54ms/step - loss: 7.3317 - acc: 0.6452 - val_loss: 7.3055 - val_acc: 0.6095\n",
            "Epoch 19/100\n",
            "782/782 [==============================] - 42s 54ms/step - loss: 7.0337 - acc: 0.6536 - val_loss: 7.0955 - val_acc: 0.6095\n",
            "Epoch 20/100\n",
            "782/782 [==============================] - 42s 54ms/step - loss: 6.7573 - acc: 0.6635 - val_loss: 6.9873 - val_acc: 0.5741\n",
            "Epoch 21/100\n",
            "782/782 [==============================] - 42s 54ms/step - loss: 6.5039 - acc: 0.6719 - val_loss: 6.6746 - val_acc: 0.6027\n",
            "Epoch 22/100\n",
            "782/782 [==============================] - 42s 54ms/step - loss: 6.2673 - acc: 0.6791 - val_loss: 6.4221 - val_acc: 0.6135\n",
            "Epoch 23/100\n",
            "782/782 [==============================] - 42s 54ms/step - loss: 6.0455 - acc: 0.6874 - val_loss: 6.1210 - val_acc: 0.6423\n",
            "Epoch 24/100\n",
            "782/782 [==============================] - 42s 54ms/step - loss: 5.8376 - acc: 0.6947 - val_loss: 6.0166 - val_acc: 0.6273\n",
            "Epoch 25/100\n",
            "782/782 [==============================] - 42s 53ms/step - loss: 5.6436 - acc: 0.7028 - val_loss: 5.8128 - val_acc: 0.6383\n",
            "Epoch 26/100\n",
            "782/782 [==============================] - 42s 53ms/step - loss: 5.4638 - acc: 0.7101 - val_loss: 5.6116 - val_acc: 0.6459\n",
            "Epoch 27/100\n",
            "782/782 [==============================] - 42s 53ms/step - loss: 5.2923 - acc: 0.7161 - val_loss: 5.4652 - val_acc: 0.6507\n",
            "Epoch 28/100\n",
            "782/782 [==============================] - 42s 54ms/step - loss: 5.1337 - acc: 0.7229 - val_loss: 5.1638 - val_acc: 0.6992\n",
            "Epoch 29/100\n",
            "782/782 [==============================] - 42s 54ms/step - loss: 4.9786 - acc: 0.7291 - val_loss: 5.2095 - val_acc: 0.6506\n",
            "Epoch 30/100\n",
            "782/782 [==============================] - 42s 54ms/step - loss: 4.8349 - acc: 0.7370 - val_loss: 4.9584 - val_acc: 0.6865\n",
            "Epoch 31/100\n",
            "782/782 [==============================] - 42s 54ms/step - loss: 4.6972 - acc: 0.7412 - val_loss: 4.8198 - val_acc: 0.6941\n",
            "Epoch 32/100\n",
            "782/782 [==============================] - 42s 53ms/step - loss: 4.5697 - acc: 0.7481 - val_loss: 4.6664 - val_acc: 0.7043\n",
            "Epoch 33/100\n",
            "782/782 [==============================] - 42s 53ms/step - loss: 4.4408 - acc: 0.7565 - val_loss: 4.5940 - val_acc: 0.6992\n",
            "Epoch 34/100\n",
            "782/782 [==============================] - 42s 54ms/step - loss: 4.3253 - acc: 0.7575 - val_loss: 4.4847 - val_acc: 0.7043\n",
            "Epoch 35/100\n",
            "782/782 [==============================] - 42s 54ms/step - loss: 4.2115 - acc: 0.7650 - val_loss: 4.4478 - val_acc: 0.6879\n",
            "Epoch 36/100\n",
            "782/782 [==============================] - 42s 54ms/step - loss: 4.1005 - acc: 0.7699 - val_loss: 4.2180 - val_acc: 0.7261\n",
            "Epoch 37/100\n",
            "782/782 [==============================] - 42s 54ms/step - loss: 4.0036 - acc: 0.7732 - val_loss: 4.2197 - val_acc: 0.7008\n",
            "Epoch 38/100\n",
            "782/782 [==============================] - 42s 53ms/step - loss: 3.8967 - acc: 0.7826 - val_loss: 4.0926 - val_acc: 0.7165\n",
            "Epoch 39/100\n",
            "782/782 [==============================] - 42s 54ms/step - loss: 3.8057 - acc: 0.7882 - val_loss: 3.9765 - val_acc: 0.7287\n",
            "Epoch 40/100\n",
            "782/782 [==============================] - 42s 54ms/step - loss: 3.7178 - acc: 0.7914 - val_loss: 3.9254 - val_acc: 0.7260\n",
            "Epoch 41/100\n",
            "782/782 [==============================] - 42s 53ms/step - loss: 3.6289 - acc: 0.7989 - val_loss: 3.7974 - val_acc: 0.7362\n",
            "Epoch 42/100\n",
            "782/782 [==============================] - 42s 53ms/step - loss: 3.5514 - acc: 0.8012 - val_loss: 3.7879 - val_acc: 0.7291\n",
            "Epoch 43/100\n",
            "782/782 [==============================] - 42s 54ms/step - loss: 3.4658 - acc: 0.8065 - val_loss: 3.6986 - val_acc: 0.7341\n",
            "Epoch 44/100\n",
            "782/782 [==============================] - 42s 54ms/step - loss: 3.3973 - acc: 0.8101 - val_loss: 3.6165 - val_acc: 0.7419\n",
            "Epoch 45/100\n",
            "782/782 [==============================] - 42s 53ms/step - loss: 3.3183 - acc: 0.8166 - val_loss: 3.5792 - val_acc: 0.7378\n",
            "Epoch 46/100\n",
            "782/782 [==============================] - 42s 53ms/step - loss: 3.2501 - acc: 0.8199 - val_loss: 3.4802 - val_acc: 0.7465\n",
            "Epoch 47/100\n",
            "782/782 [==============================] - 42s 53ms/step - loss: 3.1789 - acc: 0.8247 - val_loss: 3.4432 - val_acc: 0.7459\n",
            "Epoch 48/100\n",
            "782/782 [==============================] - 42s 54ms/step - loss: 3.1076 - acc: 0.8307 - val_loss: 3.3425 - val_acc: 0.7574\n",
            "Epoch 49/100\n",
            "782/782 [==============================] - 42s 54ms/step - loss: 3.0504 - acc: 0.8324 - val_loss: 3.3251 - val_acc: 0.7503\n",
            "Epoch 50/100\n",
            "782/782 [==============================] - 42s 54ms/step - loss: 2.9873 - acc: 0.8366 - val_loss: 3.2487 - val_acc: 0.7570\n",
            "Epoch 51/100\n",
            "782/782 [==============================] - 42s 53ms/step - loss: 2.9260 - acc: 0.8416 - val_loss: 3.2301 - val_acc: 0.7484\n",
            "Epoch 52/100\n",
            "782/782 [==============================] - 42s 54ms/step - loss: 2.8699 - acc: 0.8469 - val_loss: 3.2022 - val_acc: 0.7494\n",
            "Epoch 53/100\n",
            "782/782 [==============================] - 42s 54ms/step - loss: 2.8143 - acc: 0.8515 - val_loss: 3.1639 - val_acc: 0.7505\n",
            "Epoch 54/100\n",
            "782/782 [==============================] - 42s 54ms/step - loss: 2.7559 - acc: 0.8554 - val_loss: 3.1206 - val_acc: 0.7477\n",
            "Epoch 55/100\n",
            "782/782 [==============================] - 42s 54ms/step - loss: 2.7012 - acc: 0.8599 - val_loss: 3.0513 - val_acc: 0.7582\n",
            "Epoch 56/100\n",
            "782/782 [==============================] - 42s 54ms/step - loss: 2.6554 - acc: 0.8612 - val_loss: 3.0187 - val_acc: 0.7584\n",
            "Epoch 57/100\n",
            "782/782 [==============================] - 42s 53ms/step - loss: 2.6028 - acc: 0.8656 - val_loss: 2.9937 - val_acc: 0.7578\n",
            "Epoch 58/100\n",
            "782/782 [==============================] - 42s 54ms/step - loss: 2.5594 - acc: 0.8692 - val_loss: 3.0397 - val_acc: 0.7398\n",
            "Epoch 59/100\n",
            "782/782 [==============================] - 42s 54ms/step - loss: 2.5110 - acc: 0.8729 - val_loss: 2.9086 - val_acc: 0.7573\n",
            "Epoch 60/100\n",
            "782/782 [==============================] - 42s 53ms/step - loss: 2.4656 - acc: 0.8758 - val_loss: 2.9029 - val_acc: 0.7598\n",
            "Epoch 61/100\n",
            "782/782 [==============================] - 42s 53ms/step - loss: 2.4219 - acc: 0.8802 - val_loss: 2.8589 - val_acc: 0.7636\n",
            "Epoch 62/100\n",
            "782/782 [==============================] - 42s 54ms/step - loss: 2.3752 - acc: 0.8852 - val_loss: 2.8333 - val_acc: 0.7586\n",
            "Epoch 63/100\n",
            "782/782 [==============================] - 42s 54ms/step - loss: 2.3429 - acc: 0.8857 - val_loss: 2.8148 - val_acc: 0.7567\n",
            "Epoch 64/100\n",
            "782/782 [==============================] - 42s 54ms/step - loss: 2.3020 - acc: 0.8878 - val_loss: 2.7495 - val_acc: 0.7602\n",
            "Epoch 65/100\n",
            "782/782 [==============================] - 42s 54ms/step - loss: 2.2615 - acc: 0.8924 - val_loss: 2.7404 - val_acc: 0.7593\n",
            "Epoch 66/100\n",
            "782/782 [==============================] - 42s 54ms/step - loss: 2.2222 - acc: 0.8961 - val_loss: 2.7255 - val_acc: 0.7536\n",
            "Epoch 67/100\n",
            "782/782 [==============================] - 42s 54ms/step - loss: 2.1882 - acc: 0.8987 - val_loss: 2.6618 - val_acc: 0.7643\n",
            "Epoch 68/100\n",
            "782/782 [==============================] - 42s 54ms/step - loss: 2.1536 - acc: 0.9000 - val_loss: 2.6798 - val_acc: 0.7637\n",
            "Epoch 69/100\n",
            "782/782 [==============================] - 42s 54ms/step - loss: 2.1189 - acc: 0.9042 - val_loss: 2.6454 - val_acc: 0.7624\n",
            "Epoch 70/100\n",
            "782/782 [==============================] - 42s 54ms/step - loss: 2.0915 - acc: 0.9042 - val_loss: 2.6453 - val_acc: 0.7549\n",
            "Epoch 71/100\n",
            "782/782 [==============================] - 42s 54ms/step - loss: 2.0524 - acc: 0.9090 - val_loss: 2.5843 - val_acc: 0.7681\n",
            "Epoch 72/100\n",
            "782/782 [==============================] - 42s 54ms/step - loss: 2.0221 - acc: 0.9122 - val_loss: 2.5873 - val_acc: 0.7580\n",
            "Epoch 73/100\n",
            "782/782 [==============================] - 42s 54ms/step - loss: 1.9928 - acc: 0.9110 - val_loss: 2.5626 - val_acc: 0.7686\n",
            "Epoch 74/100\n",
            "782/782 [==============================] - 42s 54ms/step - loss: 1.9655 - acc: 0.9138 - val_loss: 2.5173 - val_acc: 0.7647\n",
            "Epoch 75/100\n",
            "782/782 [==============================] - 42s 54ms/step - loss: 1.9326 - acc: 0.9174 - val_loss: 2.5009 - val_acc: 0.7639\n",
            "Epoch 76/100\n",
            "782/782 [==============================] - 42s 54ms/step - loss: 1.9078 - acc: 0.9174 - val_loss: 2.5223 - val_acc: 0.7603\n",
            "Epoch 77/100\n",
            "782/782 [==============================] - 42s 54ms/step - loss: 1.8740 - acc: 0.9209 - val_loss: 2.5426 - val_acc: 0.7563\n",
            "Epoch 78/100\n",
            "782/782 [==============================] - 42s 54ms/step - loss: 1.8526 - acc: 0.9221 - val_loss: 2.4807 - val_acc: 0.7590\n",
            "Epoch 79/100\n",
            "782/782 [==============================] - 42s 54ms/step - loss: 1.8286 - acc: 0.9225 - val_loss: 2.4202 - val_acc: 0.7729\n",
            "Epoch 80/100\n",
            "782/782 [==============================] - 42s 54ms/step - loss: 1.7976 - acc: 0.9246 - val_loss: 2.4411 - val_acc: 0.7680\n",
            "Epoch 81/100\n",
            "782/782 [==============================] - 42s 54ms/step - loss: 1.7774 - acc: 0.9260 - val_loss: 2.4068 - val_acc: 0.7693\n",
            "Epoch 82/100\n",
            "782/782 [==============================] - 42s 54ms/step - loss: 1.7496 - acc: 0.9291 - val_loss: 2.3955 - val_acc: 0.7684\n",
            "Epoch 83/100\n",
            "782/782 [==============================] - 42s 54ms/step - loss: 1.7264 - acc: 0.9304 - val_loss: 2.3813 - val_acc: 0.7638\n",
            "Epoch 84/100\n",
            "782/782 [==============================] - 42s 54ms/step - loss: 1.7009 - acc: 0.9323 - val_loss: 2.4018 - val_acc: 0.7597\n",
            "Epoch 85/100\n",
            "782/782 [==============================] - 42s 54ms/step - loss: 1.6852 - acc: 0.9320 - val_loss: 2.3811 - val_acc: 0.7586\n",
            "Epoch 86/100\n",
            "782/782 [==============================] - 42s 54ms/step - loss: 1.6636 - acc: 0.9316 - val_loss: 2.3232 - val_acc: 0.7628\n",
            "Epoch 87/100\n",
            "782/782 [==============================] - 42s 54ms/step - loss: 1.6392 - acc: 0.9340 - val_loss: 2.3517 - val_acc: 0.7627\n",
            "Epoch 88/100\n",
            "782/782 [==============================] - 42s 54ms/step - loss: 1.6235 - acc: 0.9325 - val_loss: 2.3074 - val_acc: 0.7669\n",
            "Epoch 89/100\n",
            "782/782 [==============================] - 42s 54ms/step - loss: 1.5999 - acc: 0.9356 - val_loss: 2.2922 - val_acc: 0.7659\n",
            "Epoch 90/100\n",
            "782/782 [==============================] - 42s 54ms/step - loss: 1.5769 - acc: 0.9372 - val_loss: 2.2932 - val_acc: 0.7647\n",
            "Epoch 91/100\n",
            "782/782 [==============================] - 42s 54ms/step - loss: 1.5593 - acc: 0.9385 - val_loss: 2.3004 - val_acc: 0.7546\n",
            "Epoch 92/100\n",
            "782/782 [==============================] - 42s 54ms/step - loss: 1.5446 - acc: 0.9372 - val_loss: 2.2542 - val_acc: 0.7694\n",
            "Epoch 93/100\n",
            "782/782 [==============================] - 42s 54ms/step - loss: 1.5235 - acc: 0.9395 - val_loss: 2.2488 - val_acc: 0.7667\n",
            "Epoch 94/100\n",
            "782/782 [==============================] - 42s 54ms/step - loss: 1.5034 - acc: 0.9406 - val_loss: 2.2207 - val_acc: 0.7635\n",
            "Epoch 95/100\n",
            "782/782 [==============================] - 42s 54ms/step - loss: 1.4909 - acc: 0.9391 - val_loss: 2.2170 - val_acc: 0.7627\n",
            "Epoch 96/100\n",
            "782/782 [==============================] - 42s 54ms/step - loss: 1.4731 - acc: 0.9399 - val_loss: 2.1812 - val_acc: 0.7704\n",
            "Epoch 97/100\n",
            "782/782 [==============================] - 42s 54ms/step - loss: 1.4499 - acc: 0.9438 - val_loss: 2.1974 - val_acc: 0.7617\n",
            "Epoch 98/100\n",
            "782/782 [==============================] - 42s 54ms/step - loss: 1.4384 - acc: 0.9420 - val_loss: 2.1448 - val_acc: 0.7773\n",
            "Epoch 99/100\n",
            "782/782 [==============================] - 42s 54ms/step - loss: 1.4207 - acc: 0.9434 - val_loss: 2.1243 - val_acc: 0.7765\n",
            "Epoch 100/100\n",
            "782/782 [==============================] - 42s 54ms/step - loss: 1.4011 - acc: 0.9451 - val_loss: 2.1693 - val_acc: 0.7652\n",
            "Model: \"my_model_2\"\n",
            "_________________________________________________________________\n",
            "Layer (type)                 Output Shape              Param #   \n",
            "=================================================================\n",
            "conv2d_16 (Conv2D)           multiple                  1792      \n",
            "_________________________________________________________________\n",
            "batch_normalization_16 (Batc multiple                  256       \n",
            "_________________________________________________________________\n",
            "conv2d_17 (Conv2D)           multiple                  36928     \n",
            "_________________________________________________________________\n",
            "batch_normalization_17 (Batc multiple                  256       \n",
            "_________________________________________________________________\n",
            "conv2d_18 (Conv2D)           multiple                  36928     \n",
            "_________________________________________________________________\n",
            "batch_normalization_18 (Batc multiple                  256       \n",
            "_________________________________________________________________\n",
            "conv2d_19 (Conv2D)           multiple                  36928     \n",
            "_________________________________________________________________\n",
            "batch_normalization_19 (Batc multiple                  256       \n",
            "_________________________________________________________________\n",
            "max_pooling2d_3 (MaxPooling2 multiple                  0         \n",
            "_________________________________________________________________\n",
            "dropout_3 (Dropout)          multiple                  0         \n",
            "_________________________________________________________________\n",
            "conv2d_20 (Conv2D)           multiple                  73856     \n",
            "_________________________________________________________________\n",
            "batch_normalization_20 (Batc multiple                  512       \n",
            "_________________________________________________________________\n",
            "conv2d_21 (Conv2D)           multiple                  147584    \n",
            "_________________________________________________________________\n",
            "batch_normalization_21 (Batc multiple                  512       \n",
            "_________________________________________________________________\n",
            "conv2d_22 (Conv2D)           multiple                  147584    \n",
            "_________________________________________________________________\n",
            "batch_normalization_22 (Batc multiple                  512       \n",
            "_________________________________________________________________\n",
            "conv2d_23 (Conv2D)           multiple                  147584    \n",
            "_________________________________________________________________\n",
            "batch_normalization_23 (Batc multiple                  512       \n",
            "_________________________________________________________________\n",
            "max_pooling2d_4 (MaxPooling2 multiple                  0         \n",
            "_________________________________________________________________\n",
            "dropout_4 (Dropout)          multiple                  0         \n",
            "_________________________________________________________________\n",
            "conv2d_24 (Conv2D)           multiple                  590336    \n",
            "_________________________________________________________________\n",
            "batch_normalization_24 (Batc multiple                  2048      \n",
            "_________________________________________________________________\n",
            "conv2d_25 (Conv2D)           multiple                  2359808   \n",
            "_________________________________________________________________\n",
            "batch_normalization_25 (Batc multiple                  2048      \n",
            "_________________________________________________________________\n",
            "conv2d_26 (Conv2D)           multiple                  2359808   \n",
            "_________________________________________________________________\n",
            "batch_normalization_26 (Batc multiple                  2048      \n",
            "_________________________________________________________________\n",
            "conv2d_27 (Conv2D)           multiple                  2359808   \n",
            "_________________________________________________________________\n",
            "batch_normalization_27 (Batc multiple                  2048      \n",
            "_________________________________________________________________\n",
            "global_average_pooling2d (Gl multiple                  0         \n",
            "_________________________________________________________________\n",
            "dense_2 (Dense)              multiple                  5130      \n",
            "=================================================================\n",
            "Total params: 8,315,338\n",
            "Trainable params: 8,309,706\n",
            "Non-trainable params: 5,632\n",
            "_________________________________________________________________\n"
          ],
          "name": "stdout"
        }
      ]
    },
    {
      "cell_type": "code",
      "metadata": {
        "id": "cZ_PB23NpQQZ",
        "colab": {
          "base_uri": "https://localhost:8080/",
          "height": 279
        },
        "outputId": "6cc398fb-8d64-470a-bcda-21e940827f59"
      },
      "source": [
        "# plotting the loss on both training and validation data\n",
        "\n",
        "plt.plot(history.history['loss'], label='training loss')\n",
        "plt.plot(history.history['val_loss'], label='validation loss')\n",
        "plt.legend(loc=\"upper right\")\n",
        "plt.ylabel('loss')\n",
        "plt.xlabel('No. epochs')\n",
        "plt.show()"
      ],
      "execution_count": 35,
      "outputs": [
        {
          "output_type": "display_data",
          "data": {
            "image/png": "[encoded data removed]",
            "text/plain": [
              "<Figure size 432x288 with 1 Axes>"
            ]
          },
          "metadata": {
            "tags": [],
            "needs_background": "light"
          }
        }
      ]
    },
    {
      "cell_type": "code",
      "metadata": {
        "id": "yrzvPg5EhSN-",
        "colab": {
          "base_uri": "https://localhost:8080/",
          "height": 298
        },
        "outputId": "cf1a21d4-9131-43a5-e37c-0922090a42c6"
      },
      "source": [
        "# plotting accuracy on training and validation data\n",
        "\n",
        "plt.plot(history.history['acc'], label='training accuracy')\n",
        "plt.plot(history.history['val_acc'], label='validation accuracy')\n",
        "plt.xlabel('No epochs')\n",
        "plt.ylabel('accuracy')\n",
        "plt.legend(loc=\"lower right\")\n",
        "plt.show()\n",
        "print(history.history['val_acc'][-1])"
      ],
      "execution_count": 36,
      "outputs": [
        {
          "output_type": "display_data",
          "data": {
            "image/png": "[encoded data removed]",
            "text/plain": [
              "<Figure size 432x288 with 1 Axes>"
            ]
          },
          "metadata": {
            "tags": [],
            "needs_background": "light"
          }
        },
        {
          "output_type": "stream",
          "text": [
            "0.7652243375778198\n"
          ],
          "name": "stdout"
        }
      ]
    },
    {
      "cell_type": "code",
      "metadata": {
        "id": "Aj2Bhp0LdiQm"
      },
      "source": [
        ""
      ],
      "execution_count": null,
      "outputs": []
    }
  ]
}